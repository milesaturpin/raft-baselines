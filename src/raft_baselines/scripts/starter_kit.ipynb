{
 "cells": [
  {
   "cell_type": "markdown",
   "metadata": {},
   "source": [
    "[![Open In Colab](https://colab.research.google.com/assets/colab-badge.svg)](https://colab.research.google.com/drive/1TQtHG-Wf2CgYGSD9e7_uJWIdiK5HNniV)"
   ]
  },
  {
   "cell_type": "markdown",
   "metadata": {},
   "source": [
    "## Getting started with the RAFT benchmark\n",
    "\n",
    "In this notebook, we will walk through:\n",
    "\n",
    "1. Loading the tasks from the [RAFT dataset](https://huggingface.co/datasets/ought/raft)\n",
    "2. Creating a classifier using any CausalLM from the [Hugging Face Hub](https://huggingface.co/models)\n",
    "3. Generating predictions using that classifier for RAFT test examples\n",
    "\n",
    "This should provide you with the steps needed to make a submission to the [RAFT leaderboard](https://huggingface.co/spaces/ought/raft-leaderboard)!"
   ]
  },
  {
   "cell_type": "code",
   "execution_count": 1,
   "metadata": {},
   "outputs": [],
   "source": [
    "import datasets\n",
    "\n",
    "datasets.logging.set_verbosity_error()"
   ]
  },
  {
   "cell_type": "markdown",
   "metadata": {},
   "source": [
    "## Loading RAFT datasets\n"
   ]
  },
  {
   "cell_type": "markdown",
   "metadata": {},
   "source": [
    "We'll focus on the ADE corpus V2 task in this starter kit, but similar code could be run for all of the tasks in RAFT. To see the possible tasks, we can use the following function from `datasets`:"
   ]
  },
  {
   "cell_type": "code",
   "execution_count": 2,
   "metadata": {},
   "outputs": [
    {
     "data": {
      "application/vnd.jupyter.widget-view+json": {
       "model_id": "2d0f3f6ee6f749e08ea321775ccdd483",
       "version_major": 2,
       "version_minor": 0
      },
      "text/plain": [
       "Downloading:   0%|          | 0.00/11.9k [00:00<?, ?B/s]"
      ]
     },
     "metadata": {},
     "output_type": "display_data"
    },
    {
     "data": {
      "application/vnd.jupyter.widget-view+json": {
       "model_id": "19fd2ec6b102446cba2b0766c58d5927",
       "version_major": 2,
       "version_minor": 0
      },
      "text/plain": [
       "Downloading:   0%|          | 0.00/56.1k [00:00<?, ?B/s]"
      ]
     },
     "metadata": {},
     "output_type": "display_data"
    },
    {
     "data": {
      "text/plain": [
       "['ade_corpus_v2',\n",
       " 'banking_77',\n",
       " 'terms_of_service',\n",
       " 'tai_safety_research',\n",
       " 'neurips_impact_statement_risks',\n",
       " 'overruling',\n",
       " 'systematic_review_inclusion',\n",
       " 'one_stop_english',\n",
       " 'tweet_eval_hate',\n",
       " 'twitter_complaints',\n",
       " 'semiconductor_org_types']"
      ]
     },
     "execution_count": 2,
     "metadata": {},
     "output_type": "execute_result"
    }
   ],
   "source": [
    "from datasets import get_dataset_config_names\n",
    "\n",
    "RAFT_TASKS = get_dataset_config_names(\"ought/raft\")\n",
    "RAFT_TASKS"
   ]
  },
  {
   "cell_type": "markdown",
   "metadata": {},
   "source": [
    "Each task in RAFT consists of a training set of only **_50 labeled examples_** and an unlabeled test set. All labels have a textual version associated with them. Let's load corpus associated with the `ade_corpus_v2` task:"
   ]
  },
  {
   "cell_type": "code",
   "execution_count": 3,
   "metadata": {},
   "outputs": [
    {
     "name": "stdout",
     "output_type": "stream",
     "text": [
      "Downloading and preparing dataset raft/ade_corpus_v2 (download: 9.30 MiB, generated: 699.90 KiB, post-processed: Unknown size, total: 9.98 MiB) to /home/miles_cohere_ai/.cache/huggingface/datasets/raft/ade_corpus_v2/1.1.0/79c4de1312c1e3730043f7db07179c914f48403101f7124e2fe336f6f54d9f84...\n"
     ]
    },
    {
     "data": {
      "application/vnd.jupyter.widget-view+json": {
       "model_id": "cd34fa3c5aaa4047a3019eab5eb4acf1",
       "version_major": 2,
       "version_minor": 0
      },
      "text/plain": [
       "  0%|          | 0/11 [00:00<?, ?it/s]"
      ]
     },
     "metadata": {},
     "output_type": "display_data"
    },
    {
     "data": {
      "application/vnd.jupyter.widget-view+json": {
       "model_id": "37271d870bb34aacb1dc0e152be091c1",
       "version_major": 2,
       "version_minor": 0
      },
      "text/plain": [
       "Downloading:   0%|          | 0.00/7.79k [00:00<?, ?B/s]"
      ]
     },
     "metadata": {},
     "output_type": "display_data"
    },
    {
     "data": {
      "application/vnd.jupyter.widget-view+json": {
       "model_id": "26e09d069b374b8eb0468bcf5eb99845",
       "version_major": 2,
       "version_minor": 0
      },
      "text/plain": [
       "Downloading:   0%|          | 0.00/662k [00:00<?, ?B/s]"
      ]
     },
     "metadata": {},
     "output_type": "display_data"
    },
    {
     "data": {
      "application/vnd.jupyter.widget-view+json": {
       "model_id": "3a5986fc1e9746ada8b6931e1dfb20c8",
       "version_major": 2,
       "version_minor": 0
      },
      "text/plain": [
       "Downloading:   0%|          | 0.00/3.91k [00:00<?, ?B/s]"
      ]
     },
     "metadata": {},
     "output_type": "display_data"
    },
    {
     "data": {
      "application/vnd.jupyter.widget-view+json": {
       "model_id": "26e65d22dbfe4479a68e9fb65306cff1",
       "version_major": 2,
       "version_minor": 0
      },
      "text/plain": [
       "Downloading:   0%|          | 0.00/327k [00:00<?, ?B/s]"
      ]
     },
     "metadata": {},
     "output_type": "display_data"
    },
    {
     "data": {
      "application/vnd.jupyter.widget-view+json": {
       "model_id": "e084f026cdd94f4a8566b415d4b2d1bd",
       "version_major": 2,
       "version_minor": 0
      },
      "text/plain": [
       "Downloading:   0%|          | 0.00/11.5k [00:00<?, ?B/s]"
      ]
     },
     "metadata": {},
     "output_type": "display_data"
    },
    {
     "data": {
      "application/vnd.jupyter.widget-view+json": {
       "model_id": "af4124123c8b4c4686c263ffc4f3292d",
       "version_major": 2,
       "version_minor": 0
      },
      "text/plain": [
       "Downloading:   0%|          | 0.00/917k [00:00<?, ?B/s]"
      ]
     },
     "metadata": {},
     "output_type": "display_data"
    },
    {
     "data": {
      "application/vnd.jupyter.widget-view+json": {
       "model_id": "0f0e71bde17241d381b7b625bbc86ec1",
       "version_major": 2,
       "version_minor": 0
      },
      "text/plain": [
       "Downloading:   0%|          | 0.00/54.8k [00:00<?, ?B/s]"
      ]
     },
     "metadata": {},
     "output_type": "display_data"
    },
    {
     "data": {
      "application/vnd.jupyter.widget-view+json": {
       "model_id": "98146b6cf6e64989955d9e6be609c0b8",
       "version_major": 2,
       "version_minor": 0
      },
      "text/plain": [
       "Downloading:   0%|          | 0.00/1.59M [00:00<?, ?B/s]"
      ]
     },
     "metadata": {},
     "output_type": "display_data"
    },
    {
     "data": {
      "application/vnd.jupyter.widget-view+json": {
       "model_id": "e8a77208d51445b99870eb069c0b91ee",
       "version_major": 2,
       "version_minor": 0
      },
      "text/plain": [
       "Downloading:   0%|          | 0.00/70.0k [00:00<?, ?B/s]"
      ]
     },
     "metadata": {},
     "output_type": "display_data"
    },
    {
     "data": {
      "application/vnd.jupyter.widget-view+json": {
       "model_id": "f9ff748a4aa742f1847986b6950f53ee",
       "version_major": 2,
       "version_minor": 0
      },
      "text/plain": [
       "Downloading:   0%|          | 0.00/196k [00:00<?, ?B/s]"
      ]
     },
     "metadata": {},
     "output_type": "display_data"
    },
    {
     "data": {
      "application/vnd.jupyter.widget-view+json": {
       "model_id": "b9f6ec0729ea4304b62663346672de03",
       "version_major": 2,
       "version_minor": 0
      },
      "text/plain": [
       "Downloading:   0%|          | 0.00/7.58k [00:00<?, ?B/s]"
      ]
     },
     "metadata": {},
     "output_type": "display_data"
    },
    {
     "data": {
      "application/vnd.jupyter.widget-view+json": {
       "model_id": "0248469199d34a10943c4d4a2026c9be",
       "version_major": 2,
       "version_minor": 0
      },
      "text/plain": [
       "Downloading:   0%|          | 0.00/412k [00:00<?, ?B/s]"
      ]
     },
     "metadata": {},
     "output_type": "display_data"
    },
    {
     "data": {
      "application/vnd.jupyter.widget-view+json": {
       "model_id": "6871fd806481400ca9b2f7d2d47c1866",
       "version_major": 2,
       "version_minor": 0
      },
      "text/plain": [
       "Downloading:   0%|          | 0.00/52.5k [00:00<?, ?B/s]"
      ]
     },
     "metadata": {},
     "output_type": "display_data"
    },
    {
     "data": {
      "application/vnd.jupyter.widget-view+json": {
       "model_id": "fcc9e39041ce4a469ebb4f10da9eb2c1",
       "version_major": 2,
       "version_minor": 0
      },
      "text/plain": [
       "Downloading:   0%|          | 0.00/2.31M [00:00<?, ?B/s]"
      ]
     },
     "metadata": {},
     "output_type": "display_data"
    },
    {
     "data": {
      "application/vnd.jupyter.widget-view+json": {
       "model_id": "37463088c14e43418faa0f4daeefde15",
       "version_major": 2,
       "version_minor": 0
      },
      "text/plain": [
       "Downloading:   0%|          | 0.00/201k [00:00<?, ?B/s]"
      ]
     },
     "metadata": {},
     "output_type": "display_data"
    },
    {
     "data": {
      "application/vnd.jupyter.widget-view+json": {
       "model_id": "5c3d6f5e911c4a248ac006f53bc2047d",
       "version_major": 2,
       "version_minor": 0
      },
      "text/plain": [
       "Downloading:   0%|          | 0.00/2.09M [00:00<?, ?B/s]"
      ]
     },
     "metadata": {},
     "output_type": "display_data"
    },
    {
     "data": {
      "application/vnd.jupyter.widget-view+json": {
       "model_id": "2b51c409a5304623ae8da22ec54af6ca",
       "version_major": 2,
       "version_minor": 0
      },
      "text/plain": [
       "Downloading:   0%|          | 0.00/7.64k [00:00<?, ?B/s]"
      ]
     },
     "metadata": {},
     "output_type": "display_data"
    },
    {
     "data": {
      "application/vnd.jupyter.widget-view+json": {
       "model_id": "416684cd093744309b0c3296a401802b",
       "version_major": 2,
       "version_minor": 0
      },
      "text/plain": [
       "Downloading:   0%|          | 0.00/412k [00:00<?, ?B/s]"
      ]
     },
     "metadata": {},
     "output_type": "display_data"
    },
    {
     "data": {
      "application/vnd.jupyter.widget-view+json": {
       "model_id": "087677ff40374835a3db374992d559ea",
       "version_major": 2,
       "version_minor": 0
      },
      "text/plain": [
       "Downloading:   0%|          | 0.00/5.38k [00:00<?, ?B/s]"
      ]
     },
     "metadata": {},
     "output_type": "display_data"
    },
    {
     "data": {
      "application/vnd.jupyter.widget-view+json": {
       "model_id": "945256c3b9b448868cb6a692d9f23993",
       "version_major": 2,
       "version_minor": 0
      },
      "text/plain": [
       "Downloading:   0%|          | 0.00/336k [00:00<?, ?B/s]"
      ]
     },
     "metadata": {},
     "output_type": "display_data"
    },
    {
     "data": {
      "application/vnd.jupyter.widget-view+json": {
       "model_id": "ba441c9815364bf586bc73c94f0ec361",
       "version_major": 2,
       "version_minor": 0
      },
      "text/plain": [
       "Downloading:   0%|          | 0.00/8.12k [00:00<?, ?B/s]"
      ]
     },
     "metadata": {},
     "output_type": "display_data"
    },
    {
     "data": {
      "application/vnd.jupyter.widget-view+json": {
       "model_id": "15a88e8b70bf4cfaa0132307e21ac94e",
       "version_major": 2,
       "version_minor": 0
      },
      "text/plain": [
       "Downloading:   0%|          | 0.00/68.5k [00:00<?, ?B/s]"
      ]
     },
     "metadata": {},
     "output_type": "display_data"
    },
    {
     "data": {
      "application/vnd.jupyter.widget-view+json": {
       "model_id": "49622c7cc23841d3ad998de8a8e6b017",
       "version_major": 2,
       "version_minor": 0
      },
      "text/plain": [
       "  0%|          | 0/11 [00:00<?, ?it/s]"
      ]
     },
     "metadata": {},
     "output_type": "display_data"
    },
    {
     "data": {
      "application/vnd.jupyter.widget-view+json": {
       "model_id": "",
       "version_major": 2,
       "version_minor": 0
      },
      "text/plain": [
       "0 examples [00:00, ? examples/s]"
      ]
     },
     "metadata": {},
     "output_type": "display_data"
    },
    {
     "data": {
      "application/vnd.jupyter.widget-view+json": {
       "model_id": "",
       "version_major": 2,
       "version_minor": 0
      },
      "text/plain": [
       "0 examples [00:00, ? examples/s]"
      ]
     },
     "metadata": {},
     "output_type": "display_data"
    },
    {
     "name": "stdout",
     "output_type": "stream",
     "text": [
      "Dataset raft downloaded and prepared to /home/miles_cohere_ai/.cache/huggingface/datasets/raft/ade_corpus_v2/1.1.0/79c4de1312c1e3730043f7db07179c914f48403101f7124e2fe336f6f54d9f84. Subsequent calls will reuse this data.\n"
     ]
    },
    {
     "data": {
      "application/vnd.jupyter.widget-view+json": {
       "model_id": "d8cb88fd946d4833acbcd7b137c1dd1a",
       "version_major": 2,
       "version_minor": 0
      },
      "text/plain": [
       "  0%|          | 0/2 [00:00<?, ?it/s]"
      ]
     },
     "metadata": {},
     "output_type": "display_data"
    },
    {
     "data": {
      "text/plain": [
       "DatasetDict({\n",
       "    train: Dataset({\n",
       "        features: ['Sentence', 'ID', 'Label'],\n",
       "        num_rows: 50\n",
       "    })\n",
       "    test: Dataset({\n",
       "        features: ['Sentence', 'ID', 'Label'],\n",
       "        num_rows: 5000\n",
       "    })\n",
       "})"
      ]
     },
     "execution_count": 3,
     "metadata": {},
     "output_type": "execute_result"
    }
   ],
   "source": [
    "from datasets import load_dataset\n",
    "\n",
    "TASK = \"ade_corpus_v2\"\n",
    "raft_dataset = load_dataset(\"ought/raft\", name=TASK)\n",
    "raft_dataset"
   ]
  },
  {
   "cell_type": "markdown",
   "metadata": {},
   "source": [
    "The `raft_dataset` object itself is a [`DatasetDict`](https://huggingface.co/docs/datasets/package_reference/main_classes.html#datasetdict), which contains one key for the training and test sets. In this task we can see we have 50 labelled examples to work with and 5,000 examples on the test set we need to generate predictions for. To access an example, you need to specify the name of the split and then the index as follows:"
   ]
  },
  {
   "cell_type": "code",
   "execution_count": 4,
   "metadata": {},
   "outputs": [
    {
     "data": {
      "text/plain": [
       "{'Sentence': 'No regional side effects were noted.', 'ID': 0, 'Label': 2}"
      ]
     },
     "execution_count": 4,
     "metadata": {},
     "output_type": "execute_result"
    }
   ],
   "source": [
    "raft_dataset[\"train\"][0]"
   ]
  },
  {
   "cell_type": "markdown",
   "metadata": {},
   "source": [
    "Here we can see that each example is assigned a label ID which denotes the class in this particular tasks. Let's check how many classes we have in the training set:"
   ]
  },
  {
   "cell_type": "code",
   "execution_count": 5,
   "metadata": {},
   "outputs": [
    {
     "data": {
      "text/plain": [
       "[2, 1]"
      ]
     },
     "execution_count": 5,
     "metadata": {},
     "output_type": "execute_result"
    }
   ],
   "source": [
    "label_ids = raft_dataset[\"train\"].unique(\"Label\")\n",
    "label_ids"
   ]
  },
  {
   "cell_type": "markdown",
   "metadata": {},
   "source": [
    "Okay, this indicates that `ade_corpus_v2` is a binary classification task and we can extract the human-readable label names as follows:"
   ]
  },
  {
   "cell_type": "code",
   "execution_count": 6,
   "metadata": {},
   "outputs": [
    {
     "data": {
      "text/plain": [
       "{2: 'not ADE-related', 1: 'ADE-related'}"
      ]
     },
     "execution_count": 6,
     "metadata": {},
     "output_type": "execute_result"
    }
   ],
   "source": [
    "features = raft_dataset[\"train\"].features[\"Label\"]\n",
    "id2label = {idx : features.int2str(idx) for idx in label_ids}\n",
    "id2label"
   ]
  },
  {
   "cell_type": "markdown",
   "metadata": {},
   "source": [
    "Note that the test set also has a `Label` entry, but it is zero to denote a dummy label (this is what your model needs to predict!):"
   ]
  },
  {
   "cell_type": "code",
   "execution_count": 7,
   "metadata": {},
   "outputs": [
    {
     "data": {
      "text/plain": [
       "[0]"
      ]
     },
     "execution_count": 7,
     "metadata": {},
     "output_type": "execute_result"
    }
   ],
   "source": [
    "raft_dataset[\"test\"].unique(\"Label\")"
   ]
  },
  {
   "cell_type": "markdown",
   "metadata": {},
   "source": [
    "To get a broader sense of what kind of data we are dealing with, we can use the following function to randomly sample from the corpus and display the results as a table:"
   ]
  },
  {
   "cell_type": "code",
   "execution_count": 8,
   "metadata": {},
   "outputs": [
    {
     "data": {
      "text/html": [
       "<table border=\"1\" class=\"dataframe\">\n",
       "  <thead>\n",
       "    <tr style=\"text-align: right;\">\n",
       "      <th></th>\n",
       "      <th>Sentence</th>\n",
       "      <th>ID</th>\n",
       "      <th>Label</th>\n",
       "    </tr>\n",
       "  </thead>\n",
       "  <tbody>\n",
       "    <tr>\n",
       "      <th>0</th>\n",
       "      <td>MRI has a high sensitivity and specificity in the diagnosis of osteonecrosis and should be used when this condition is suspected.</td>\n",
       "      <td>14</td>\n",
       "      <td>not ADE-related</td>\n",
       "    </tr>\n",
       "    <tr>\n",
       "      <th>1</th>\n",
       "      <td>Pulses have been given for periods up to three years without evident toxicity.</td>\n",
       "      <td>5</td>\n",
       "      <td>not ADE-related</td>\n",
       "    </tr>\n",
       "    <tr>\n",
       "      <th>2</th>\n",
       "      <td>CT-scan disclosed right ethmoid sinusitis that spread to the orbit after surgery.</td>\n",
       "      <td>22</td>\n",
       "      <td>not ADE-related</td>\n",
       "    </tr>\n",
       "    <tr>\n",
       "      <th>3</th>\n",
       "      <td>The treatment of Toxoplasma encephalitis in patients with acquired immunodeficiency syndrome.</td>\n",
       "      <td>7</td>\n",
       "      <td>not ADE-related</td>\n",
       "    </tr>\n",
       "    <tr>\n",
       "      <th>4</th>\n",
       "      <td>With serious cases, however, conventional treatment may not allow sufficient time at depth for the complete resolution of manifestations because of the need to avoid pulmonary oxygen toxicity which is associated with a prolonged period of breathing compressed air.</td>\n",
       "      <td>41</td>\n",
       "      <td>not ADE-related</td>\n",
       "    </tr>\n",
       "    <tr>\n",
       "      <th>5</th>\n",
       "      <td>The cases are important in documenting that drug-induced dystonias do occur in patients with dementia, that risperidone appears to have contributed to dystonia among elderly patients, and that the categorization of dystonic reactions needs further clarification.</td>\n",
       "      <td>24</td>\n",
       "      <td>ADE-related</td>\n",
       "    </tr>\n",
       "    <tr>\n",
       "      <th>6</th>\n",
       "      <td>Of the 16 patients, including the 1 reported here, only 3 displayed significant shortening of the agranulocytic period after treatment.</td>\n",
       "      <td>19</td>\n",
       "      <td>not ADE-related</td>\n",
       "    </tr>\n",
       "    <tr>\n",
       "      <th>7</th>\n",
       "      <td>These organisms have occasionally been reported as a cause of serious infections in man but have not been reported as a cause of shunt infection.</td>\n",
       "      <td>16</td>\n",
       "      <td>not ADE-related</td>\n",
       "    </tr>\n",
       "    <tr>\n",
       "      <th>8</th>\n",
       "      <td>A challenge with clozapine was feasible and showed no clinical symptoms of eosinophilia.</td>\n",
       "      <td>8</td>\n",
       "      <td>not ADE-related</td>\n",
       "    </tr>\n",
       "    <tr>\n",
       "      <th>9</th>\n",
       "      <td>Early detection of these cases has practical importance since the identification and elimination of the causative drug is essential for therapy success.</td>\n",
       "      <td>47</td>\n",
       "      <td>not ADE-related</td>\n",
       "    </tr>\n",
       "  </tbody>\n",
       "</table>"
      ],
      "text/plain": [
       "<IPython.core.display.HTML object>"
      ]
     },
     "metadata": {},
     "output_type": "display_data"
    }
   ],
   "source": [
    "import random\n",
    "import pandas as pd\n",
    "from IPython.display import display, HTML\n",
    "\n",
    "def show_random_elements(dataset, num_examples=10):\n",
    "    assert num_examples <= len(dataset), \"Can't pick more elements than there are in the dataset.\"\n",
    "    picks = []\n",
    "    for _ in range(num_examples):\n",
    "        pick = random.randint(0, len(dataset)-1)\n",
    "        while pick in picks:\n",
    "            pick = random.randint(0, len(dataset)-1)\n",
    "        picks.append(pick)\n",
    "    \n",
    "    df = pd.DataFrame(dataset[picks])\n",
    "    for column, typ in dataset.features.items():\n",
    "        if isinstance(typ, datasets.ClassLabel):\n",
    "            df[column] = df[column].transform(lambda i: typ.names[i])\n",
    "    display(HTML(df.to_html()))\n",
    "    \n",
    "show_random_elements(raft_dataset[\"train\"])"
   ]
  },
  {
   "cell_type": "markdown",
   "metadata": {},
   "source": [
    "## Creating a classifier from the Hugging Face Model Hub"
   ]
  },
  {
   "cell_type": "markdown",
   "metadata": {},
   "source": [
    "We provide a class which uses the same prompt construction method as our GPT-3 baseline, but works with any CausalLM on the [HuggingFace Model Hub](https://huggingface.co/models?pipeline_tag=text-generation&sort=downloads). The classifier will automatically use a GPU if available. Brief documentation on the arguments for configuring the classifier is provided below.:"
   ]
  },
  {
   "cell_type": "code",
   "execution_count": 9,
   "metadata": {},
   "outputs": [],
   "source": [
    "from raft_baselines.classifiers import TransformersCausalLMClassifier\n",
    "\n",
    "classifier = TransformersCausalLMClassifier(\n",
    "    model_type=\"distilgpt2\",             # The model to use from the HF hub\n",
    "    training_data=raft_dataset[\"train\"],            # The training data\n",
    "    num_prompt_training_examples=25,     # See raft_predict.py for the number of training examples used on a per-dataset basis in the GPT-3 baselines run.\n",
    "                                         # Note that it may be better to use fewer training examples and/or shorter instructions with other models with smaller context windows.\n",
    "    add_prefixes=(TASK==\"banking_77\"),   # Set to True when using banking_77 since multiple classes start with the same token\n",
    "    config=TASK,                         # For task-specific instructions and field ordering\n",
    "    use_task_specific_instructions=True,\n",
    "    do_semantic_selection=True,\n",
    ")"
   ]
  },
  {
   "cell_type": "markdown",
   "metadata": {},
   "source": [
    "## Generating predictions for RAFT test examples"
   ]
  },
  {
   "cell_type": "markdown",
   "metadata": {},
   "source": [
    "In order to generate predictions on the test set, we need to provide the model with an appropriate prompt with the instructions. Let's take a look at how this works on a single example from the test set."
   ]
  },
  {
   "cell_type": "markdown",
   "metadata": {},
   "source": [
    "### Example prompt and prediction"
   ]
  },
  {
   "cell_type": "markdown",
   "metadata": {},
   "source": [
    "The `TransformersCausalLMClassifier` has a `classify` function that will automatically generate the predicted probabilites from the model. We'll set `should_print_prompt=True` so that we can see which prompt is being used to instruct the model:"
   ]
  },
  {
   "cell_type": "code",
   "execution_count": 10,
   "metadata": {},
   "outputs": [
    {
     "name": "stdout",
     "output_type": "stream",
     "text": [
      "Label the sentence based on whether it is related to an adverse drug effect (ADE). Details are described below:\n",
      "Drugs: Names of drugs and chemicals that include brand names, trivial names, abbreviations and systematic names were annotated. Mentions of drugs or chemicals should strictly be in a therapeutic context. This category does not include the names of metabolites, reaction byproducts, or hospital chemicals (e.g. surgical equipment disinfectants).\n",
      "Adverse effect: Mentions of adverse effects include signs, symptoms, diseases, disorders, acquired abnormalities, deficiencies, organ damage or death that strictly occur as a consequence of drug intake.\n",
      "Possible labels:\n",
      "1. ADE-related\n",
      "2. not ADE-related\n",
      "\n",
      "Sentence: Treatment of silastic catheter-induced central vein septic thrombophlebitis\n",
      "Label: not ADE-related\n",
      "\n",
      "Sentence: We describe a patient who developed HUS after treatment with mitomycin C (total dose 144 mg\n",
      "Label: ADE-related\n",
      "\n",
      "Sentence: In 1991 the patient were found to be seropositive for HCV antibodies as detected by\n",
      "Label: not ADE-related\n",
      "\n",
      "Sentence: METHODS: We identified three patients who developed skin necrosis and determined any factors, which\n",
      "Label: not ADE-related\n",
      "\n",
      "Sentence: These cases were considered unusual in light of the short delay of their onset after initiation of immunosupp\n",
      "Label: ADE-related\n",
      "\n",
      "Sentence: No regional side effects were noted.\n",
      "Label: not ADE-related\n",
      "\n",
      "Sentence: A patient with psoriasis is described who had an abnormal response to the glucose tolerance test without other\n",
      "Label: ADE-related\n",
      "\n",
      "Sentence: CONCLUSIONS: These results suggest that clozapine may cause TD; however, the prevalence\n",
      "Label: ADE-related\n",
      "\n",
      "Sentence: The cases are important in documenting that drug-induced dystonias do occur in patients with dementia,\n",
      "Label: ADE-related\n",
      "\n",
      "Sentence: NEH must be considered in lupus patients receiving cytotoxic agents to avoid inappropriate use\n",
      "Label: not ADE-related\n",
      "\n",
      "Sentence: A closer look at septic shock.\n",
      "Label: not ADE-related\n",
      "\n",
      "Sentence: The mechanism by which sunitinib induces gynaecomastia is thought to be associated\n",
      "Label: ADE-related\n",
      "\n",
      "Sentence: Of the 16 patients, including the 1 reported here, only 3 displayed significant shortening of the\n",
      "Label: not ADE-related\n",
      "\n",
      "Sentence: Sotalol-induced bradycardia reversed by glucagon.\n",
      "Label: ADE-related\n",
      "\n",
      "Sentence: CONCLUSION: Pancreatic enzyme intolerance, although rare, would be a major problem in\n",
      "Label: not ADE-related\n",
      "\n",
      "Sentence: Macular infarction after endophthalmitis treated with vitrectomy and intravit\n",
      "Label: ADE-related\n",
      "\n",
      "Sentence: MRI has a high sensitivity and specificity in the diagnosis of osteonecrosis and should be used\n",
      "Label: not ADE-related\n",
      "\n",
      "Sentence: IMPLICATIONS: Dexmedetomidine, an alpha(2)-adrenoceptor\n",
      "Label: not ADE-related\n",
      "\n",
      "Sentence: The INR should be monitored more frequently when bosentan is initiated, adjusted, or discontinued\n",
      "Label: not ADE-related\n",
      "\n",
      "Sentence: Remarkable findings on initial examination were facial grimacing, flexure posturing of both upper extrem\n",
      "Label: not ADE-related\n",
      "\n",
      "Sentence: Early detection of these cases has practical importance since the identification and elimination of the causative drug is\n",
      "Label: not ADE-related\n",
      "\n",
      "Sentence: This report demonstrates the increased risk of complicated varicella associated with the use of corticoster\n",
      "Label: not ADE-related\n",
      "\n",
      "Sentence: These results indicate that the hyponatremia in this case was due to SIADH\n",
      "Label: not ADE-related\n",
      "\n",
      "Sentence: Best-corrected visual acuity measurements were performed at every visit.\n",
      "Label: not ADE-related\n",
      "\n",
      "Sentence: OBJECTIVE: To describe onset of syndrome of inappropriate antidiuretic hormone (SIADH\n",
      "Label: ADE-related\n",
      "\n",
      "Sentence: CONCLUSIONS: SD-OCT and AO detected abnormalities that correlate topographically with visual field loss from hydroxychloroquine toxicity as demonstrated by HVF 10-2 and may be useful in the detection of subclinical abnormalities that precede symptoms or objective visual field loss.\n",
      "Label:\n"
     ]
    },
    {
     "data": {
      "text/plain": [
       "{'ADE-related': 0.31358153, 'not ADE-related': 0.68641853}"
      ]
     },
     "execution_count": 10,
     "metadata": {},
     "output_type": "execute_result"
    }
   ],
   "source": [
    "test_dataset = raft_dataset[\"test\"]\n",
    "first_test_example = test_dataset[0]\n",
    "\n",
    "# delete the 0 Label\n",
    "del first_test_example[\"Label\"]\n",
    "\n",
    "# probabilities for all classes\n",
    "output_probs = classifier.classify(first_test_example, should_print_prompt=True)\n",
    "output_probs"
   ]
  },
  {
   "cell_type": "markdown",
   "metadata": {},
   "source": [
    "In this example we can see the model predicts that the example is not related to an adverse drug effect. We can use this technique to generate predictions across the whole test set! Let's take a look."
   ]
  },
  {
   "cell_type": "markdown",
   "metadata": {},
   "source": [
    "### Creating a submission file of predictions"
   ]
  },
  {
   "cell_type": "markdown",
   "metadata": {},
   "source": [
    "To submit to the RAFT leaderboard, you'll need to provide a CSV file of predictions on the test set for each task (see [here](https://huggingface.co/datasets/ought/raft-submission) for detailed instructions).  The following code snippet generates a CSV with predictions for the first $N$ test examples in the format required for submission $(ID, Label)$. \n",
    "\n",
    "Note that this is expected to generate predictions of all \"Not ADE-related\" for the 10 test examples with the code as written; few-shot classification is pretty hard!"
   ]
  },
  {
   "cell_type": "code",
   "execution_count": 11,
   "metadata": {},
   "outputs": [],
   "source": [
    "# Increase this to len(test_dataset) to generate predictions over the full test set\n",
    "N_TEST = 10\n",
    "test_examples_to_predict = test_dataset.select(range(N_TEST))\n",
    "\n",
    "def predict_one(clf, test_example):\n",
    "    del test_example[\"Label\"]    \n",
    "    output_probs = clf.classify(example)\n",
    "    output_label = max(output_probs.items(), key=lambda kv_pair: kv_pair[1])[0]\n",
    "    return output_label\n",
    "\n",
    "data = []\n",
    "for example in test_examples_to_predict:\n",
    "    data.append({\"ID\": example[\"ID\"], \"Label\": predict_one(classifier, example)})\n",
    "    \n",
    "result_df = pd.DataFrame(data=data, columns=[\"ID\", \"Label\"]).astype({\"ID\": int, \"Label\": str})   \n",
    "result_df"
   ]
  },
  {
   "cell_type": "markdown",
   "metadata": {},
   "source": [
    "Note that the `ID` column starts from index 50 since we have IDs 0-49 in the training set. The final step is to save the DataFrame as a CSV file and build out the rest of your submission:"
   ]
  },
  {
   "cell_type": "code",
   "execution_count": null,
   "metadata": {},
   "outputs": [],
   "source": [
    "result_df.to_csv(\"../data/example_predictions.csv\", index=False)"
   ]
  },
  {
   "cell_type": "markdown",
   "metadata": {},
   "source": [
    "Good luck with the rest of the benchmark!"
   ]
  }
 ],
 "metadata": {
  "interpreter": {
   "hash": "74118a50156796984ad06a64d88792c5d24753e439e2427f4985fcb9d71e695f"
  },
  "kernelspec": {
   "display_name": "Python 3 (ipykernel)",
   "language": "python",
   "name": "python3"
  },
  "language_info": {
   "codemirror_mode": {
    "name": "ipython",
    "version": 3
   },
   "file_extension": ".py",
   "mimetype": "text/x-python",
   "name": "python",
   "nbconvert_exporter": "python",
   "pygments_lexer": "ipython3",
   "version": "3.8.11"
  }
 },
 "nbformat": 4,
 "nbformat_minor": 4
}
