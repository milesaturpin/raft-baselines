{
 "cells": [
  {
   "cell_type": "code",
   "execution_count": null,
   "id": "d96c0df6-ce40-46e8-93b0-7abc70838491",
   "metadata": {},
   "outputs": [],
   "source": [
    "import datasets\n",
    "\n",
    "from raft_baselines.classifiers import GPT3Classifier\n",
    "\n",
    "train = datasets.load_dataset(\n",
    "    \"ought/raft\", \"neurips_impact_statement_risks\", split=\"train\"\n",
    ")\n",
    "classifier = GPT3Classifier(\n",
    "    train, config=\"neurips_impact_statement_risks\", do_semantic_selection=True\n",
    ")\n",
    "print(classifier.classify({\"Paper title\": \"GNN research\", \"Impact statement\": \"test2\"}))\n"
   ]
  }
 ],
 "metadata": {
  "kernelspec": {
   "display_name": "Python 3 (ipykernel)",
   "language": "python",
   "name": "python3"
  },
  "language_info": {
   "codemirror_mode": {
    "name": "ipython",
    "version": 3
   },
   "file_extension": ".py",
   "mimetype": "text/x-python",
   "name": "python",
   "nbconvert_exporter": "python",
   "pygments_lexer": "ipython3",
   "version": "3.8.11"
  }
 },
 "nbformat": 4,
 "nbformat_minor": 5
}
